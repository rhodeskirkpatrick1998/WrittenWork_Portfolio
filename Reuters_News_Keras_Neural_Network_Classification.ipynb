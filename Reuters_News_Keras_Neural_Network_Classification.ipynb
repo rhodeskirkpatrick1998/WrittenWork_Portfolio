{
  "nbformat": 4,
  "nbformat_minor": 0,
  "metadata": {
    "colab": {
      "provenance": [],
      "authorship_tag": "ABX9TyMRcmXhlEjthHeGEHGSBHK0",
      "include_colab_link": true
    },
    "kernelspec": {
      "name": "python3",
      "display_name": "Python 3"
    },
    "language_info": {
      "name": "python"
    }
  },
  "cells": [
    {
      "cell_type": "markdown",
      "metadata": {
        "id": "view-in-github",
        "colab_type": "text"
      },
      "source": [
        "<a href=\"https://colab.research.google.com/github/rhodeskirkpatrick1998/WrittenWork_Portfolio/blob/main/Reuters_News_Keras_Neural_Network_Classification.ipynb\" target=\"_parent\"><img src=\"https://colab.research.google.com/assets/colab-badge.svg\" alt=\"Open In Colab\"/></a>"
      ]
    },
    {
      "cell_type": "markdown",
      "source": [
        "Data:\n",
        "\n",
        "For this exercise we will use the Reuters newswire dataset. This dataset consists of 11,228 newswires from the Reuters news agency. Each wire is encoded as a sequence of word indexes, just as in the IMDB data we encountered in lecture 5 of this series. Moreover, each wire is categorised into one of 46 topics, which will serve as our label. This dataset is available through the Keras API.\n",
        "\n",
        "Goal:\n",
        "\n",
        "We want to create a Multi-layer perceptron (MLP) using Keras which we can train to classify news items into the specified 46 topics."
      ],
      "metadata": {
        "id": "JTdZf2nBnFAs"
      }
    },
    {
      "cell_type": "code",
      "execution_count": null,
      "metadata": {
        "id": "-Nu6gCBOAj0N"
      },
      "outputs": [],
      "source": [
        "!pip install tensorflow==2.11.0rc0"
      ]
    },
    {
      "cell_type": "code",
      "source": [
        "import tensorflow as tf\n",
        "if not tf.__version__ == '2.11.0-rc0':\n",
        "    print(tf.__version__)\n",
        "    raise ValueError('please upgrade to TensorFlow 2.2.0-rc0, or restart your Kernel (Kernel->Restart & Clear Output)')"
      ],
      "metadata": {
        "id": "IydnoWmSA3dy"
      },
      "execution_count": null,
      "outputs": []
    },
    {
      "cell_type": "code",
      "source": [
        "import numpy as np\n",
        "from tensorflow.keras.models import Sequential\n",
        "from tensorflow.keras.layers import Dense, Dropout\n",
        "from tensorflow.keras.utils import to_categorical\n",
        "seed = 1337\n",
        "np.random.seed(seed)\n",
        "from tensorflow.keras.datasets import reuters\n",
        "\n",
        "max_words = 1000\n",
        "(x_train, y_train), (x_test, y_test) = reuters.load_data(num_words=max_words,\n",
        "                                                         test_split=0.2,\n",
        "                                                         seed=seed)\n",
        "num_classes = np.max(y_train) + 1  # 46 topics"
      ],
      "metadata": {
        "id": "UR1TGKE2BGGh"
      },
      "execution_count": null,
      "outputs": []
    },
    {
      "cell_type": "markdown",
      "source": [
        "Note that we cap the maximum number of words in a news item to 1000 by specifying the num_words key word. Also, 20% of the data will be test data and we ensure reproducibility by setting our random seed.\n",
        "\n",
        "Our training features are still simply sequences of indexes and we need to further preprocess them, so that we can plug them into a Dense layer. For this we use a Tokenizer from Keras' text preprocessing module. This tokenizer will take an index sequence and map it to a vector of length max_words=1000. Each of the 1000 vector positions corresponds to one of the words in our newswire corpus. The output of the tokenizer has a 1 at the i-th position of the vector, if the word corresponding to i is in the description of the newswire, and 0 otherwise. Even if this word appears multiple times, we still just put a 1 into our vector, i.e. our tokenizer is binary. We use this tokenizer to transform both train and test features:"
      ],
      "metadata": {
        "id": "68iek6iWnN2Z"
      }
    },
    {
      "cell_type": "code",
      "source": [
        "from tensorflow.keras.preprocessing.text import Tokenizer\n",
        "\n",
        "tokenizer = Tokenizer(num_words=max_words)\n",
        "x_train = tokenizer.sequences_to_matrix(x_train, mode='binary')\n",
        "x_test = tokenizer.sequences_to_matrix(x_test, mode='binary')"
      ],
      "metadata": {
        "id": "U2_kxgavBPIl"
      },
      "execution_count": null,
      "outputs": []
    },
    {
      "cell_type": "markdown",
      "source": [
        "label encoding:\n",
        "\n",
        "Use to_categorical, to transform both y_train and y_test into one-hot encoded vectors of length num_classes:"
      ],
      "metadata": {
        "id": "zyJ55hGXnUQw"
      }
    },
    {
      "cell_type": "code",
      "source": [
        "y_train = to_categorical(y_train, num_classes)\n",
        "y_test = to_categorical(y_test, num_classes)"
      ],
      "metadata": {
        "id": "Owu2eN7BBRth"
      },
      "execution_count": null,
      "outputs": []
    },
    {
      "cell_type": "markdown",
      "source": [
        "Model definition:\n",
        "\n",
        "Next, initialise a Keras Sequential model and add three layers to it:\n",
        "\n",
        "Layer: Add a *Dense* layer with in input_shape=(max_words,), 512 output units and \"relu\" activation.\n",
        "Layer: Add a *Dropout* layer with dropout rate of 50%.\n",
        "Layer: Add a *Dense* layer with num_classes output units and \"softmax\" activation."
      ],
      "metadata": {
        "id": "mQKkAVK_nbpG"
      }
    },
    {
      "cell_type": "code",
      "source": [
        "model = Sequential()\n",
        "model.add(Dense(512,activation='relu',input_shape=(1000,)))\n",
        "model.add(Dropout(0.5))\n",
        "model.add(Dense(num_classes,activation='softmax'))"
      ],
      "metadata": {
        "id": "792FtgFMBRxg"
      },
      "execution_count": null,
      "outputs": []
    },
    {
      "cell_type": "markdown",
      "source": [
        "model compilation:\n",
        "\n",
        "As the next step, we need to compile our Keras model with a training configuration. Compile your model with \"categorical_crossentropy\" as loss function, \"adam\" as optimizer and specify \"accuracy\" as evaluation metric."
      ],
      "metadata": {
        "id": "P5Jow9bLniKM"
      }
    },
    {
      "cell_type": "code",
      "source": [
        "model.compile(loss='categorical_crossentropy',optimizer='adam',metrics=['accuracy'])"
      ],
      "metadata": {
        "id": "ptZhc_nHClYf"
      },
      "execution_count": null,
      "outputs": []
    },
    {
      "cell_type": "markdown",
      "source": [
        "model training and evaluation:\n",
        "\n",
        "Next, define the batch_size for training as 32 and train the model for 5 epochs on x_train and y_train by using the fit method of your model. Then calculate the score for your trained model by running evaluate on x_test and y_test with the same batch size as used in fit."
      ],
      "metadata": {
        "id": "CPVIyR8inm_K"
      }
    },
    {
      "cell_type": "code",
      "source": [
        "batch_size = 32\n",
        "model.fit(x_train,y_train,batch_size=batch_size,epochs=5,validation_data=(x_test,y_test))\n",
        "score = model.evaluate(x_test,y_test,batch_size=32)"
      ],
      "metadata": {
        "id": "D_Do9w5jDDMs"
      },
      "execution_count": null,
      "outputs": []
    },
    {
      "cell_type": "code",
      "source": [
        "score[1]"
      ],
      "metadata": {
        "colab": {
          "base_uri": "https://localhost:8080/"
        },
        "id": "84dJc2BlDqTK",
        "outputId": "6ca10d51-2e77-4719-b772-491d2b4cfb90"
      },
      "execution_count": null,
      "outputs": [
        {
          "output_type": "execute_result",
          "data": {
            "text/plain": [
              "0.8032057285308838"
            ]
          },
          "metadata": {},
          "execution_count": 14
        }
      ]
    },
    {
      "cell_type": "code",
      "source": [
        "!rm -f rklib.py\n",
        "!wget https://raw.githubusercontent.com/IBM/coursera/master/rklib.py"
      ],
      "metadata": {
        "id": "YArphTPCDxr8"
      },
      "execution_count": null,
      "outputs": []
    },
    {
      "cell_type": "code",
      "source": [
        "from rklib import submit\n",
        "import json\n",
        "\n",
        "key = \"XbAMqtjdEeepUgo7OOVwng\"\n",
        "part = \"HCvcp\"\n",
        "email = \"rhodesjkirkpatrick@gmail.com\"\n",
        "token = \"3sT6FT6yOufi5iV4\"\n",
        "\n",
        "\n",
        "submit(email, token, 'XbAMqtjdEeepUgo7OOVwng', part, [part], json.dumps(score[1]*100))"
      ],
      "metadata": {
        "id": "E1iF2TYSDz06"
      },
      "execution_count": null,
      "outputs": []
    }
  ]
}