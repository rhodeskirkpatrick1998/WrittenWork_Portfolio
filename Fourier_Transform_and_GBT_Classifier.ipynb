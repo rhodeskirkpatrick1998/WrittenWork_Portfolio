{
  "nbformat": 4,
  "nbformat_minor": 0,
  "metadata": {
    "colab": {
      "provenance": [],
      "authorship_tag": "ABX9TyNhnzBAMU7rckDjqAnzsDV+",
      "include_colab_link": true
    },
    "kernelspec": {
      "name": "python3",
      "display_name": "Python 3"
    },
    "language_info": {
      "name": "python"
    }
  },
  "cells": [
    {
      "cell_type": "markdown",
      "metadata": {
        "id": "view-in-github",
        "colab_type": "text"
      },
      "source": [
        "<a href=\"https://colab.research.google.com/github/rhodeskirkpatrick1998/WrittenWork_Portfolio/blob/main/Fourier_Transform_and_GBT_Classifier.ipynb\" target=\"_parent\"><img src=\"https://colab.research.google.com/assets/colab-badge.svg\" alt=\"Open In Colab\"/></a>"
      ]
    },
    {
      "cell_type": "code",
      "execution_count": null,
      "metadata": {
        "id": "-QWZOsW-qI-x"
      },
      "outputs": [],
      "source": [
        "from IPython.display import Markdown, display\n",
        "def printmd(string):\n",
        "    display(Markdown('# <span style=\"color:red\">'+string+'</span>'))\n",
        "\n",
        "\n",
        "if ('sc' in locals() or 'sc' in globals()):\n",
        "    printmd('<<<<<!!!!! It seems that you are running in a IBM Watson Studio Apache Spark Notebook. Please run it in an IBM Watson Studio Default Runtime (without Apache Spark) !!!!!>>>>>')\n"
      ]
    },
    {
      "cell_type": "code",
      "source": [
        "!pip install pyspark==3.2.1 systemds==2.2.1"
      ],
      "metadata": {
        "colab": {
          "base_uri": "https://localhost:8080/"
        },
        "id": "Os8xwtjFqVN3",
        "outputId": "f2dd8e5d-2bea-4757-bf0f-72edac75f50d"
      },
      "execution_count": null,
      "outputs": [
        {
          "output_type": "stream",
          "name": "stdout",
          "text": [
            "Collecting pyspark==3.2.1\n",
            "  Downloading pyspark-3.2.1.tar.gz (281.4 MB)\n",
            "\u001b[2K     \u001b[90m━━━━━━━━━━━━━━━━━━━━━━━━━━━━━━━━━━━━━━━━\u001b[0m \u001b[32m281.4/281.4 MB\u001b[0m \u001b[31m5.0 MB/s\u001b[0m eta \u001b[36m0:00:00\u001b[0m\n",
            "\u001b[?25h  Preparing metadata (setup.py) ... \u001b[?25l\u001b[?25hdone\n",
            "Collecting systemds==2.2.1\n",
            "  Downloading systemds-2.2.1-py3-none-any.whl (50.9 MB)\n",
            "\u001b[2K     \u001b[90m━━━━━━━━━━━━━━━━━━━━━━━━━━━━━━━━━━━━━━━━\u001b[0m \u001b[32m50.9/50.9 MB\u001b[0m \u001b[31m10.0 MB/s\u001b[0m eta \u001b[36m0:00:00\u001b[0m\n",
            "\u001b[?25hCollecting py4j==0.10.9.3 (from pyspark==3.2.1)\n",
            "  Downloading py4j-0.10.9.3-py2.py3-none-any.whl (198 kB)\n",
            "\u001b[2K     \u001b[90m━━━━━━━━━━━━━━━━━━━━━━━━━━━━━━━━━━━━━━━━\u001b[0m \u001b[32m199.0/199.0 kB\u001b[0m \u001b[31m21.3 MB/s\u001b[0m eta \u001b[36m0:00:00\u001b[0m\n",
            "\u001b[?25hRequirement already satisfied: numpy>=1.8.2 in /usr/local/lib/python3.10/dist-packages (from systemds==2.2.1) (1.23.5)\n",
            "Requirement already satisfied: requests>=2.24.0 in /usr/local/lib/python3.10/dist-packages (from systemds==2.2.1) (2.31.0)\n",
            "Requirement already satisfied: pandas>=1.2.2 in /usr/local/lib/python3.10/dist-packages (from systemds==2.2.1) (1.5.3)\n",
            "Requirement already satisfied: python-dateutil>=2.8.1 in /usr/local/lib/python3.10/dist-packages (from pandas>=1.2.2->systemds==2.2.1) (2.8.2)\n",
            "Requirement already satisfied: pytz>=2020.1 in /usr/local/lib/python3.10/dist-packages (from pandas>=1.2.2->systemds==2.2.1) (2023.3.post1)\n",
            "Requirement already satisfied: charset-normalizer<4,>=2 in /usr/local/lib/python3.10/dist-packages (from requests>=2.24.0->systemds==2.2.1) (3.3.0)\n",
            "Requirement already satisfied: idna<4,>=2.5 in /usr/local/lib/python3.10/dist-packages (from requests>=2.24.0->systemds==2.2.1) (3.4)\n",
            "Requirement already satisfied: urllib3<3,>=1.21.1 in /usr/local/lib/python3.10/dist-packages (from requests>=2.24.0->systemds==2.2.1) (2.0.6)\n",
            "Requirement already satisfied: certifi>=2017.4.17 in /usr/local/lib/python3.10/dist-packages (from requests>=2.24.0->systemds==2.2.1) (2023.7.22)\n",
            "Requirement already satisfied: six>=1.5 in /usr/local/lib/python3.10/dist-packages (from python-dateutil>=2.8.1->pandas>=1.2.2->systemds==2.2.1) (1.16.0)\n",
            "Building wheels for collected packages: pyspark\n",
            "  Building wheel for pyspark (setup.py) ... \u001b[?25l\u001b[?25hdone\n",
            "  Created wheel for pyspark: filename=pyspark-3.2.1-py2.py3-none-any.whl size=281853623 sha256=12db713582e3a9f26fe8600d29df68c7bea2e0099441e11a43fcf3bdacac827b\n",
            "  Stored in directory: /root/.cache/pip/wheels/15/97/bd/52908574a60b5f8e3dc4dc5a0b5be8a59ac20986ee51c2611b\n",
            "Successfully built pyspark\n",
            "Installing collected packages: py4j, pyspark, systemds\n",
            "  Attempting uninstall: py4j\n",
            "    Found existing installation: py4j 0.10.9.7\n",
            "    Uninstalling py4j-0.10.9.7:\n",
            "      Successfully uninstalled py4j-0.10.9.7\n",
            "Successfully installed py4j-0.10.9.3 pyspark-3.2.1 systemds-2.2.1\n"
          ]
        }
      ]
    },
    {
      "cell_type": "code",
      "source": [
        "from pyspark import SparkContext, SparkConf\n",
        "from pyspark.sql import SQLContext, SparkSession\n",
        "from pyspark.sql.types import StructType, StructField, DoubleType, IntegerType, StringType\n",
        "sc = SparkContext.getOrCreate(SparkConf().setMaster(\"local[*]\"))\n",
        "from pyspark.sql import SparkSession\n",
        "spark = SparkSession \\\n",
        "    .builder \\\n",
        "    .getOrCreate()"
      ],
      "metadata": {
        "id": "nRhh_D4Qqioe"
      },
      "execution_count": null,
      "outputs": []
    },
    {
      "cell_type": "code",
      "source": [
        "!wget https://github.com/IBM/coursera/blob/master/coursera_ml/shake.parquet?raw=true\n",
        "!mv shake.parquet?raw=true shake.parquet"
      ],
      "metadata": {
        "colab": {
          "base_uri": "https://localhost:8080/"
        },
        "id": "EgWqcQNaqvuN",
        "outputId": "eb4fc0f7-ef12-4854-dc43-932b9e3e2d04"
      },
      "execution_count": null,
      "outputs": [
        {
          "output_type": "stream",
          "name": "stdout",
          "text": [
            "--2023-10-16 22:46:19--  https://github.com/IBM/coursera/blob/master/coursera_ml/shake.parquet?raw=true\n",
            "Resolving github.com (github.com)... 140.82.113.4\n",
            "Connecting to github.com (github.com)|140.82.113.4|:443... connected.\n",
            "HTTP request sent, awaiting response... 301 Moved Permanently\n",
            "Location: https://github.com/claimed-framework/component-library/blob/master/coursera_ml/shake.parquet?raw=true [following]\n",
            "--2023-10-16 22:46:19--  https://github.com/claimed-framework/component-library/blob/master/coursera_ml/shake.parquet?raw=true\n",
            "Reusing existing connection to github.com:443.\n",
            "HTTP request sent, awaiting response... 302 Found\n",
            "Location: https://github.com/claimed-framework/component-library/raw/master/coursera_ml/shake.parquet [following]\n",
            "--2023-10-16 22:46:19--  https://github.com/claimed-framework/component-library/raw/master/coursera_ml/shake.parquet\n",
            "Reusing existing connection to github.com:443.\n",
            "HTTP request sent, awaiting response... 302 Found\n",
            "Location: https://raw.githubusercontent.com/claimed-framework/component-library/master/coursera_ml/shake.parquet [following]\n",
            "--2023-10-16 22:46:19--  https://raw.githubusercontent.com/claimed-framework/component-library/master/coursera_ml/shake.parquet\n",
            "Resolving raw.githubusercontent.com (raw.githubusercontent.com)... 185.199.108.133, 185.199.109.133, 185.199.110.133, ...\n",
            "Connecting to raw.githubusercontent.com (raw.githubusercontent.com)|185.199.108.133|:443... connected.\n",
            "HTTP request sent, awaiting response... 200 OK\n",
            "Length: 74727 (73K) [application/octet-stream]\n",
            "Saving to: ‘shake.parquet?raw=true’\n",
            "\n",
            "shake.parquet?raw=t 100%[===================>]  72.98K  --.-KB/s    in 0.02s   \n",
            "\n",
            "2023-10-16 22:46:20 (2.97 MB/s) - ‘shake.parquet?raw=true’ saved [74727/74727]\n",
            "\n"
          ]
        }
      ]
    },
    {
      "cell_type": "code",
      "source": [
        "df=spark.read.parquet('shake.parquet')"
      ],
      "metadata": {
        "id": "aZM1XYK5qv3V"
      },
      "execution_count": null,
      "outputs": []
    },
    {
      "cell_type": "code",
      "source": [
        "df.show()"
      ],
      "metadata": {
        "colab": {
          "base_uri": "https://localhost:8080/"
        },
        "id": "wuiEsxczq4GW",
        "outputId": "c1ad7c38-0aa4-46d2-f53e-38916f0119aa"
      },
      "execution_count": null,
      "outputs": [
        {
          "output_type": "stream",
          "name": "stdout",
          "text": [
            "+-----+---------+-----+-----+-----+\n",
            "|CLASS| SENSORID|    X|    Y|    Z|\n",
            "+-----+---------+-----+-----+-----+\n",
            "|    2| qqqqqqqq| 0.12| 0.12| 0.12|\n",
            "|    2|aUniqueID| 0.03| 0.03| 0.03|\n",
            "|    2| qqqqqqqq|-3.84|-3.84|-3.84|\n",
            "|    2| 12345678| -0.1| -0.1| -0.1|\n",
            "|    2| 12345678|-0.15|-0.15|-0.15|\n",
            "|    2| 12345678| 0.47| 0.47| 0.47|\n",
            "|    2| 12345678|-0.06|-0.06|-0.06|\n",
            "|    2| 12345678|-0.09|-0.09|-0.09|\n",
            "|    2| 12345678| 0.21| 0.21| 0.21|\n",
            "|    2| 12345678|-0.08|-0.08|-0.08|\n",
            "|    2| 12345678| 0.44| 0.44| 0.44|\n",
            "|    2|    gholi| 0.76| 0.76| 0.76|\n",
            "|    2|    gholi| 1.62| 1.62| 1.62|\n",
            "|    2|    gholi| 5.81| 5.81| 5.81|\n",
            "|    2| bcbcbcbc| 0.58| 0.58| 0.58|\n",
            "|    2| bcbcbcbc|-8.24|-8.24|-8.24|\n",
            "|    2| bcbcbcbc|-0.45|-0.45|-0.45|\n",
            "|    2| bcbcbcbc| 1.03| 1.03| 1.03|\n",
            "|    2|aUniqueID|-0.05|-0.05|-0.05|\n",
            "|    2| qqqqqqqq|-0.44|-0.44|-0.44|\n",
            "+-----+---------+-----+-----+-----+\n",
            "only showing top 20 rows\n",
            "\n"
          ]
        }
      ]
    },
    {
      "cell_type": "code",
      "source": [
        "df.createOrReplaceTempView(\"df\")"
      ],
      "metadata": {
        "id": "FIdC52S_q4K6"
      },
      "execution_count": null,
      "outputs": []
    },
    {
      "cell_type": "markdown",
      "source": [
        "We’ll use Apache SystemML to implement Discrete Fourier Transformation. This way all computation continues to happen on the Apache Spark cluster for advanced scalability and performance.\n",
        "\n",
        "As you’ve learned from the lecture, implementing Discrete Fourier Transformation in a linear algebra programming language is simple. Apache SystemML DML is such a language and as you can see the implementation is straightforward and doesn’t differ too much from the mathematical definition (Just note that the sum operator has been swapped with a vector dot product using the %*% syntax borrowed from R ):\n",
        "\n"
      ],
      "metadata": {
        "id": "itiCRNvUi0-j"
      }
    },
    {
      "cell_type": "code",
      "source": [
        "from pyspark.sql.functions import monotonically_increasing_id\n",
        "from systemds.context import SystemDSContext\n",
        "import numpy as np\n",
        "import pandas as pd\n",
        "\n",
        "def dft_systemds(signal,name):\n",
        "\n",
        "\n",
        "    with SystemDSContext(spark) as sds:\n",
        "        size = signal.count()\n",
        "        signal = sds.from_numpy(signal.toPandas().to_numpy())\n",
        "        pi = sds.scalar(3.141592654)\n",
        "\n",
        "        n = sds.seq(0,size-1)\n",
        "        k = sds.seq(0,size-1)\n",
        "\n",
        "        M = (n @ (k.t())) * (2*pi/size)\n",
        "\n",
        "        Xa = M.cos() @ signal\n",
        "        Xb = M.sin() @ signal\n",
        "\n",
        "        index = (list(map(lambda x: [x],np.array(range(0, size, 1)))))\n",
        "        DFT = np.hstack((index,Xa.cbind(Xb).compute()))\n",
        "        DFT_pdf = pd.DataFrame(DFT, columns=list([\"id\",name+'_sin',name+'_cos']))\n",
        "        DFT_df = spark.createDataFrame(DFT_pdf)\n",
        "        return DFT_df"
      ],
      "metadata": {
        "id": "m98DvuS4q9Za"
      },
      "execution_count": null,
      "outputs": []
    },
    {
      "cell_type": "code",
      "source": [
        "x0 = spark.sql(\"SELECT X FROM df WHERE CLASS=1\")\n",
        "y0 = spark.sql(\"SELECT Y FROM df WHERE CLASS=1\")\n",
        "z0 = spark.sql(\"SELECT Z FROM df WHERE CLASS=1\")\n",
        "x1 = spark.sql(\"SELECT X FROM df WHERE CLASS=2\")\n",
        "y1 = spark.sql(\"SELECT Y FROM df WHERE CLASS=2\")\n",
        "z1 = spark.sql(\"SELECT Z FROM df WHERE CLASS=2\")"
      ],
      "metadata": {
        "id": "Umu00-vVrC0m"
      },
      "execution_count": null,
      "outputs": []
    },
    {
      "cell_type": "markdown",
      "source": [
        "We are doing is the following:\n",
        "\n",
        "Calling DFT for each class and accelerometer sensor axis.\n",
        "\n",
        "Joining them together on the ID column.\n",
        "\n",
        "Re-adding a column containing the class index.\n",
        "\n",
        "Stacking both Dataframes for each classes together"
      ],
      "metadata": {
        "id": "FDHfzZO4iyWA"
      }
    },
    {
      "cell_type": "code",
      "source": [
        "from pyspark.sql.functions import lit\n",
        "\n",
        "df_class_0 = dft_systemds(x0,'x') \\\n",
        "    .join(dft_systemds(y0,'y'), on=['id'], how='inner') \\\n",
        "    .join(dft_systemds(z0,'z'), on=['id'], how='inner') \\\n",
        "    .withColumn('class', lit(0))\n",
        "\n",
        "df_class_1 = dft_systemds(x1,'x') \\\n",
        "    .join(dft_systemds(y1,'y'), on=['id'], how='inner') \\\n",
        "    .join(dft_systemds(z1,'z'), on=['id'], how='inner') \\\n",
        "    .withColumn('class', lit(1))\n",
        "\n",
        "df_dft = df_class_0.union(df_class_1)\n",
        "\n",
        "df_dft.show()"
      ],
      "metadata": {
        "colab": {
          "base_uri": "https://localhost:8080/"
        },
        "id": "P3MTNYM-rJ2Q",
        "outputId": "0122c044-7fd2-40fa-be1f-a95a48f845df"
      },
      "execution_count": null,
      "outputs": [
        {
          "output_type": "stream",
          "name": "stderr",
          "text": [
            "/usr/local/lib/python3.10/dist-packages/pyspark/sql/pandas/conversion.py:371: FutureWarning: iteritems is deprecated and will be removed in a future version. Use .items instead.\n",
            "  for column, series in pdf.iteritems():\n",
            "/usr/local/lib/python3.10/dist-packages/pyspark/sql/pandas/conversion.py:371: FutureWarning: iteritems is deprecated and will be removed in a future version. Use .items instead.\n",
            "  for column, series in pdf.iteritems():\n",
            "/usr/local/lib/python3.10/dist-packages/pyspark/sql/pandas/conversion.py:371: FutureWarning: iteritems is deprecated and will be removed in a future version. Use .items instead.\n",
            "  for column, series in pdf.iteritems():\n",
            "/usr/local/lib/python3.10/dist-packages/pyspark/sql/pandas/conversion.py:371: FutureWarning: iteritems is deprecated and will be removed in a future version. Use .items instead.\n",
            "  for column, series in pdf.iteritems():\n",
            "/usr/local/lib/python3.10/dist-packages/pyspark/sql/pandas/conversion.py:371: FutureWarning: iteritems is deprecated and will be removed in a future version. Use .items instead.\n",
            "  for column, series in pdf.iteritems():\n",
            "/usr/local/lib/python3.10/dist-packages/pyspark/sql/pandas/conversion.py:371: FutureWarning: iteritems is deprecated and will be removed in a future version. Use .items instead.\n",
            "  for column, series in pdf.iteritems():\n"
          ]
        },
        {
          "output_type": "stream",
          "name": "stdout",
          "text": [
            "+----+--------------------+--------------------+--------------------+--------------------+--------------------+--------------------+-----+\n",
            "|  id|               x_sin|               x_cos|               y_sin|               y_cos|               z_sin|               z_cos|class|\n",
            "+----+--------------------+--------------------+--------------------+--------------------+--------------------+--------------------+-----+\n",
            "| 8.0|0.007264897147586408|0.050779226648936575|0.007264897147586408|0.050779226648936575|0.007264897147586408|0.050779226648936575|    0|\n",
            "| 0.0|               -0.13|                 0.0|               -0.13|                 0.0|               -0.13|                 0.0|    0|\n",
            "| 7.0| 0.04362147198699657| 0.04661273969005281| 0.04362147198699657| 0.04661273969005281| 0.04362147198699657| 0.04661273969005281|    0|\n",
            "|49.0|-0.07768949082949561|0.039133460895471164|-0.07768949082949561|0.039133460895471164|-0.07768949082949561|0.039133460895471164|    0|\n",
            "|29.0|-0.10895275079055323|-0.04017484023996344|-0.10895275079055323|-0.04017484023996344|-0.10895275079055323|-0.04017484023996344|    0|\n",
            "|47.0|-0.00210545483171...|0.005169172060822...|-0.00210545483171...|0.005169172060822...|-0.00210545483171...|0.005169172060822...|    0|\n",
            "|42.0|  0.0877424196298842|-0.04399627953075756|  0.0877424196298842|-0.04399627953075756|  0.0877424196298842|-0.04399627953075756|    0|\n",
            "|44.0|-0.01014654201362...|-0.05732756250962963|-0.01014654201362...|-0.05732756250962963|-0.01014654201362...|-0.05732756250962963|    0|\n",
            "|35.0|0.014917607503647524| 0.13421887799008775|0.014917607503647524| 0.13421887799008775|0.014917607503647524| 0.13421887799008775|    0|\n",
            "|18.0| 0.06178937294558884|-0.03961749197816182| 0.06178937294558884|-0.03961749197816182| 0.06178937294558884|-0.03961749197816182|    0|\n",
            "| 1.0|-0.02887452407349862|0.026700581521828547|-0.02887452407349862|0.026700581521828547|-0.02887452407349862|0.026700581521828547|    0|\n",
            "|39.0| 0.07600499297235766|-0.04165706301892977| 0.07600499297235766|-0.04165706301892977| 0.07600499297235766|-0.04165706301892977|    0|\n",
            "|34.0| 0.03806781864279874| 0.15673003964523352| 0.03806781864279874| 0.15673003964523352| 0.03806781864279874| 0.15673003964523352|    0|\n",
            "|37.0|-0.00895316189594...| -0.0969949270045784|-0.00895316189594...| -0.0969949270045784|-0.00895316189594...| -0.0969949270045784|    0|\n",
            "|25.0|-0.08637555895214044|0.024658537855777297|-0.08637555895214044|0.024658537855777297|-0.08637555895214044|0.024658537855777297|    0|\n",
            "|36.0|-0.05120371181943163|-0.01584424790766...|-0.05120371181943163|-0.01584424790766...|-0.05120371181943163|-0.01584424790766...|    0|\n",
            "|41.0|0.050945537592681445|-0.00299428645504...|0.050945537592681445|-0.00299428645504...|0.050945537592681445|-0.00299428645504...|    0|\n",
            "| 4.0|0.010027156636270794|-0.03439553396608...|0.010027156636270794|-0.03439553396608...|0.010027156636270794|-0.03439553396608...|    0|\n",
            "|23.0|0.045395539393062484|-0.06637518821311544|0.045395539393062484|-0.06637518821311544|0.045395539393062484|-0.06637518821311544|    0|\n",
            "|50.0|-9.90013271400872E-4| 0.02629328644679342|-9.90013271400872E-4| 0.02629328644679342|-9.90013271400872E-4| 0.02629328644679342|    0|\n",
            "+----+--------------------+--------------------+--------------------+--------------------+--------------------+--------------------+-----+\n",
            "only showing top 20 rows\n",
            "\n"
          ]
        }
      ]
    },
    {
      "cell_type": "code",
      "source": [
        "from pyspark.ml.feature import VectorAssembler"
      ],
      "metadata": {
        "id": "iA8EJsSzrZk6"
      },
      "execution_count": null,
      "outputs": []
    },
    {
      "cell_type": "code",
      "source": [
        "vectorAssembler = VectorAssembler(inputCols=[\"x_sin\",\"x_cos\",\"y_sin\",\"y_cos\",\"z_sin\",\"z_cos\"],\n",
        "                                  outputCol=\"features\")"
      ],
      "metadata": {
        "id": "D3MjwsiNrtY9"
      },
      "execution_count": null,
      "outputs": []
    },
    {
      "cell_type": "code",
      "source": [
        "from pyspark.ml.classification import GBTClassifier"
      ],
      "metadata": {
        "id": "RK2IQXZCsag7"
      },
      "execution_count": null,
      "outputs": []
    },
    {
      "cell_type": "code",
      "source": [
        "classifier = GBTClassifier(labelCol=\"class\")"
      ],
      "metadata": {
        "id": "jpT9pgIpseE6"
      },
      "execution_count": null,
      "outputs": []
    },
    {
      "cell_type": "code",
      "source": [
        "from pyspark.ml import Pipeline\n",
        "pipeline = Pipeline(stages=[vectorAssembler, classifier])"
      ],
      "metadata": {
        "id": "AlOHYUiWtYHt"
      },
      "execution_count": null,
      "outputs": []
    },
    {
      "cell_type": "code",
      "source": [
        "model = pipeline.fit(df_dft)"
      ],
      "metadata": {
        "id": "UQDmxZIzto9v"
      },
      "execution_count": null,
      "outputs": []
    },
    {
      "cell_type": "code",
      "source": [
        "prediction = model.transform(df_dft)"
      ],
      "metadata": {
        "id": "NHQbZ1JFtrRm"
      },
      "execution_count": null,
      "outputs": []
    },
    {
      "cell_type": "code",
      "source": [
        "prediction.show()"
      ],
      "metadata": {
        "colab": {
          "base_uri": "https://localhost:8080/"
        },
        "id": "ynFsANbpxwi0",
        "outputId": "5334e521-6336-4ffc-982d-deed0667199c"
      },
      "execution_count": null,
      "outputs": [
        {
          "output_type": "stream",
          "name": "stdout",
          "text": [
            "+----+--------------------+--------------------+--------------------+--------------------+--------------------+--------------------+-----+--------------------+--------------------+--------------------+----------+\n",
            "|  id|               x_sin|               x_cos|               y_sin|               y_cos|               z_sin|               z_cos|class|            features|       rawPrediction|         probability|prediction|\n",
            "+----+--------------------+--------------------+--------------------+--------------------+--------------------+--------------------+-----+--------------------+--------------------+--------------------+----------+\n",
            "| 8.0|0.007264897147586408|0.050779226648936575|0.007264897147586408|0.050779226648936575|0.007264897147586408|0.050779226648936575|    0|[0.00726489714758...|[0.93454965218102...|[0.86635402507462...|       0.0|\n",
            "| 0.0|               -0.13|                 0.0|               -0.13|                 0.0|               -0.13|                 0.0|    0|[-0.13,0.0,-0.13,...|[0.87506135510249...|[0.85196827864295...|       0.0|\n",
            "| 7.0| 0.04362147198699657| 0.04661273969005281| 0.04362147198699657| 0.04661273969005281| 0.04362147198699657| 0.04661273969005281|    0|[0.04362147198699...|[0.93454965218102...|[0.86635402507462...|       0.0|\n",
            "|49.0|-0.07768949082949561|0.039133460895471164|-0.07768949082949561|0.039133460895471164|-0.07768949082949561|0.039133460895471164|    0|[-0.0776894908294...|[0.87506135510249...|[0.85196827864295...|       0.0|\n",
            "|29.0|-0.10895275079055323|-0.04017484023996344|-0.10895275079055323|-0.04017484023996344|-0.10895275079055323|-0.04017484023996344|    0|[-0.1089527507905...|[0.87332989769335...|[0.85153100908328...|       0.0|\n",
            "|47.0|-0.00210545483171...|0.005169172060822...|-0.00210545483171...|0.005169172060822...|-0.00210545483171...|0.005169172060822...|    0|[-0.0021054548317...|[0.93454965218102...|[0.86635402507462...|       0.0|\n",
            "|42.0|  0.0877424196298842|-0.04399627953075756|  0.0877424196298842|-0.04399627953075756|  0.0877424196298842|-0.04399627953075756|    0|[0.08774241962988...|[0.93281819477188...|[0.86595256350908...|       0.0|\n",
            "|44.0|-0.01014654201362...|-0.05732756250962963|-0.01014654201362...|-0.05732756250962963|-0.01014654201362...|-0.05732756250962963|    0|[-0.0101465420136...|[0.93281819477188...|[0.86595256350908...|       0.0|\n",
            "|35.0|0.014917607503647524| 0.13421887799008775|0.014917607503647524| 0.13421887799008775|0.014917607503647524| 0.13421887799008775|    0|[0.01491760750364...|[0.93454965218102...|[0.86635402507462...|       0.0|\n",
            "|18.0| 0.06178937294558884|-0.03961749197816182| 0.06178937294558884|-0.03961749197816182| 0.06178937294558884|-0.03961749197816182|    0|[0.06178937294558...|[0.93281819477188...|[0.86595256350908...|       0.0|\n",
            "| 1.0|-0.02887452407349862|0.026700581521828547|-0.02887452407349862|0.026700581521828547|-0.02887452407349862|0.026700581521828547|    0|[-0.0288745240734...|[0.87506135510249...|[0.85196827864295...|       0.0|\n",
            "|39.0| 0.07600499297235766|-0.04165706301892977| 0.07600499297235766|-0.04165706301892977| 0.07600499297235766|-0.04165706301892977|    0|[0.07600499297235...|[0.93281819477188...|[0.86595256350908...|       0.0|\n",
            "|34.0| 0.03806781864279874| 0.15673003964523352| 0.03806781864279874| 0.15673003964523352| 0.03806781864279874| 0.15673003964523352|    0|[0.03806781864279...|[0.93454965218102...|[0.86635402507462...|       0.0|\n",
            "|37.0|-0.00895316189594...| -0.0969949270045784|-0.00895316189594...| -0.0969949270045784|-0.00895316189594...| -0.0969949270045784|    0|[-0.0089531618959...|[0.93281819477188...|[0.86595256350908...|       0.0|\n",
            "|25.0|-0.08637555895214044|0.024658537855777297|-0.08637555895214044|0.024658537855777297|-0.08637555895214044|0.024658537855777297|    0|[-0.0863755589521...|[0.87506135510249...|[0.85196827864295...|       0.0|\n",
            "|36.0|-0.05120371181943163|-0.01584424790766...|-0.05120371181943163|-0.01584424790766...|-0.05120371181943163|-0.01584424790766...|    0|[-0.0512037118194...|[0.87332989769335...|[0.85153100908328...|       0.0|\n",
            "|41.0|0.050945537592681445|-0.00299428645504...|0.050945537592681445|-0.00299428645504...|0.050945537592681445|-0.00299428645504...|    0|[0.05094553759268...|[0.93281819477188...|[0.86595256350908...|       0.0|\n",
            "| 4.0|0.010027156636270794|-0.03439553396608...|0.010027156636270794|-0.03439553396608...|0.010027156636270794|-0.03439553396608...|    0|[0.01002715663627...|[0.93281819477188...|[0.86595256350908...|       0.0|\n",
            "|23.0|0.045395539393062484|-0.06637518821311544|0.045395539393062484|-0.06637518821311544|0.045395539393062484|-0.06637518821311544|    0|[0.04539553939306...|[0.93281819477188...|[0.86595256350908...|       0.0|\n",
            "|50.0|-9.90013271400872E-4| 0.02629328644679342|-9.90013271400872E-4| 0.02629328644679342|-9.90013271400872E-4| 0.02629328644679342|    0|[-9.9001327140087...|[0.93454965218102...|[0.86635402507462...|       0.0|\n",
            "+----+--------------------+--------------------+--------------------+--------------------+--------------------+--------------------+-----+--------------------+--------------------+--------------------+----------+\n",
            "only showing top 20 rows\n",
            "\n"
          ]
        }
      ]
    },
    {
      "cell_type": "code",
      "source": [
        "from pyspark.ml.evaluation import MulticlassClassificationEvaluator\n",
        "binEval = MulticlassClassificationEvaluator().setMetricName(\"accuracy\") .setPredictionCol(\"prediction\").setLabelCol(\"class\")\n",
        "\n",
        "binEval.evaluate(prediction)"
      ],
      "metadata": {
        "colab": {
          "base_uri": "https://localhost:8080/"
        },
        "id": "z4eW1yl8xy60",
        "outputId": "0936d37f-df48-4462-de79-cd227438518c"
      },
      "execution_count": null,
      "outputs": [
        {
          "output_type": "execute_result",
          "data": {
            "text/plain": [
              "0.9981761070017225"
            ]
          },
          "metadata": {},
          "execution_count": 29
        }
      ]
    },
    {
      "cell_type": "code",
      "source": [
        "!rm -Rf a2_m4.json"
      ],
      "metadata": {
        "id": "1qBwYcTKx3b4"
      },
      "execution_count": null,
      "outputs": []
    },
    {
      "cell_type": "code",
      "source": [
        "prediction = prediction.repartition(1)\n",
        "prediction.write.json('a2_m4.json')"
      ],
      "metadata": {
        "id": "g7swZp8rx6jc"
      },
      "execution_count": null,
      "outputs": []
    },
    {
      "cell_type": "code",
      "source": [
        "!rm -f rklib.py\n",
        "!wget wget https://raw.githubusercontent.com/IBM/coursera/master/rklib.py"
      ],
      "metadata": {
        "colab": {
          "base_uri": "https://localhost:8080/"
        },
        "id": "UTQINPiyx8lP",
        "outputId": "e5d57290-a85f-41c9-e87e-fef40ef4c22f"
      },
      "execution_count": null,
      "outputs": [
        {
          "output_type": "stream",
          "name": "stdout",
          "text": [
            "--2023-10-16 23:17:44--  http://wget/\n",
            "Resolving wget (wget)... failed: Name or service not known.\n",
            "wget: unable to resolve host address ‘wget’\n",
            "--2023-10-16 23:17:44--  https://raw.githubusercontent.com/IBM/coursera/master/rklib.py\n",
            "Resolving raw.githubusercontent.com (raw.githubusercontent.com)... 185.199.108.133, 185.199.109.133, 185.199.110.133, ...\n",
            "Connecting to raw.githubusercontent.com (raw.githubusercontent.com)|185.199.108.133|:443... connected.\n",
            "HTTP request sent, awaiting response... 200 OK\n",
            "Length: 2540 (2.5K) [text/plain]\n",
            "Saving to: ‘rklib.py’\n",
            "\n",
            "rklib.py            100%[===================>]   2.48K  --.-KB/s    in 0s      \n",
            "\n",
            "2023-10-16 23:17:44 (23.4 MB/s) - ‘rklib.py’ saved [2540/2540]\n",
            "\n",
            "FINISHED --2023-10-16 23:17:44--\n",
            "Total wall clock time: 0.2s\n",
            "Downloaded: 1 files, 2.5K in 0s (23.4 MB/s)\n"
          ]
        }
      ]
    },
    {
      "cell_type": "code",
      "source": [
        "from rklib import zipit\n",
        "zipit('a2_m4.json.zip','a2_m4.json')"
      ],
      "metadata": {
        "colab": {
          "base_uri": "https://localhost:8080/"
        },
        "id": "eWlb5TdWx8os",
        "outputId": "e2a3574f-6605-4b37-af6b-9f30eb327d53"
      },
      "execution_count": null,
      "outputs": [
        {
          "output_type": "stream",
          "name": "stderr",
          "text": [
            "Exception ignored in: <function JavaWrapper.__del__ at 0x7989b82b8670>\n",
            "Traceback (most recent call last):\n",
            "  File \"/usr/local/lib/python3.10/dist-packages/pyspark/ml/wrapper.py\", line 39, in __del__\n",
            "    if SparkContext._active_spark_context and self._java_obj is not None:\n",
            "AttributeError: 'GBTClassifier' object has no attribute '_java_obj'\n"
          ]
        }
      ]
    },
    {
      "cell_type": "code",
      "source": [
        "!base64 a2_m4.json.zip > a2_m4.json.zip.base64"
      ],
      "metadata": {
        "id": "FdzvsOxtyDFi"
      },
      "execution_count": null,
      "outputs": []
    },
    {
      "cell_type": "code",
      "source": [
        "from rklib import submit\n",
        "key = \"-fBiYHYDEeiR4QqiFhAvkA\"\n",
        "part = \"IjtJk\"\n",
        "email = \"rhodesjkirkpatrick@gmail.com\"\n",
        "submission_token = \"g9Vs8yr6PCtmbIKG\"\n",
        "\n",
        "with open('a2_m4.json.zip.base64', 'r') as myfile:\n",
        "    data=myfile.read()\n",
        "submit(email, submission_token, key, part, [part], data)"
      ],
      "metadata": {
        "colab": {
          "base_uri": "https://localhost:8080/"
        },
        "id": "5pq3KugcyDST",
        "outputId": "121582fe-ded6-4165-c20a-be9c4b71d201"
      },
      "execution_count": null,
      "outputs": [
        {
          "output_type": "stream",
          "name": "stdout",
          "text": [
            "Submission successful, please check on the coursera grader page for the status\n",
            "-------------------------\n",
            "{\"elements\":[{\"itemId\":\"B8wXV\",\"id\":\"f_F-qCtuEei_fRLwaVDk3g~B8wXV~ZMzXk2x6Ee6zOBLsrHGVkQ\",\"courseId\":\"f_F-qCtuEei_fRLwaVDk3g\"}],\"paging\":{},\"linked\":{}}\n",
            "-------------------------\n"
          ]
        }
      ]
    }
  ]
}